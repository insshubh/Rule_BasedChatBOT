{
  "nbformat": 4,
  "nbformat_minor": 0,
  "metadata": {
    "colab": {
      "provenance": [],
      "toc_visible": true,
      "authorship_tag": "ABX9TyO0fgz2/NjfcvgPDU3e/2A2",
      "include_colab_link": true
    },
    "kernelspec": {
      "name": "python3",
      "display_name": "Python 3"
    },
    "language_info": {
      "name": "python"
    }
  },
  "cells": [
    {
      "cell_type": "markdown",
      "metadata": {
        "id": "view-in-github",
        "colab_type": "text"
      },
      "source": [
        "<a href=\"https://colab.research.google.com/github/insshubh/Rule_BasedChatBOT/blob/main/Rule_Bot.ipynb\" target=\"_parent\"><img src=\"https://colab.research.google.com/assets/colab-badge.svg\" alt=\"Open In Colab\"/></a>"
      ]
    },
    {
      "cell_type": "code",
      "execution_count": null,
      "metadata": {
        "id": "LPhVymLcH_WD"
      },
      "outputs": [],
      "source": [
        "import re\n",
        "import random"
      ]
    },
    {
      "cell_type": "code",
      "source": [
        "class RuleBot:\n",
        "  ### Negative Responses\n",
        "  negative_responses = (\"no\",\"nah\",\"nope\",\"not a chance\",\"sorry\")\n",
        "  ### Exit to conversation\n",
        "  exit_command =(\"quit\",\"pause\",\"exit\",\"goodbye\",\"stop\")\n",
        "  ### random starter question\n",
        "  random_questions = (\n",
        "      \"Why are We Here?\",\n",
        "      \"Is all Ok or you need my assistent\",\n",
        "      \"Is Everything Good\",\n",
        "      \"What Technology do you Learn yet\"\n",
        "  )\n",
        "### Here we can add as many Classification intensts. and define function accordingly\n",
        "  def __init__(self):\n",
        "    self.alienbabble = {'describe_planet_intent': r'.*\\s*your planet.*',\n",
        "                        'answer_why_intent': r'.*\\b(mission)\\b.*',\n",
        "                        'about_bot': r'.*\\s*bot',\n",
        "                        'nothing' :r'kch\\s.*'\n",
        "                        }\n",
        "# Greet and if user input negative it breaks otherwise it invoke chat method.\n",
        "  def greet(self):\n",
        "    self.name = input(\"What Is your Name?\\n\")\n",
        "    will_help = input(f\"Hi {self.name}, I am Rule-Bot. Will you help  me to learn?\\n\")\n",
        "    if will_help in self.negative_responses:\n",
        "      print(\"Ok, have a nice Day!\")\n",
        "      return\n",
        "    self.chat()\n",
        "\n",
        "  def make_exit(self, reply):\n",
        "    for command in self.exit_command:\n",
        "      if reply == command:\n",
        "        print(\"BOnsuir !\")\n",
        "        return True\n",
        "\n",
        "  def chat(self):\n",
        "    reply = input(random.choice(self.random_questions)).title()\n",
        "    while not self.make_exit(reply):\n",
        "      reply = input(self.match_reply(reply))\n",
        "\n",
        "  def match_reply(self, reply):\n",
        "    for key, value in self.alienbabble.items():\n",
        "      intent = key\n",
        "      regex_pattern = value\n",
        "      found_match = re.match(regex_pattern, reply)\n",
        "      if found_match and intent == 'describe_planet_intent':\n",
        "        return self.describe_planet_intent()\n",
        "      elif found_match and intent == 'answer_why_intent':\n",
        "        return self.answer_why_intent()\n",
        "      elif found_match and intent == 'about_bot':\n",
        "        return self.about_bot()\n",
        "    if not found_match:\n",
        "      return self.no_match_intent()\n",
        "\n",
        "  def describe_planet_intent(self):\n",
        "    response = (\"My Planet is Computer which is diverse and complex.\\n\",\n",
        "                \"I am From compile design and os .\\n\")\n",
        "    return random.choice(response)\n",
        "\n",
        "  def answer_why_intent(self):\n",
        "    responses = (\"I come in Peace \\n\",\"I am here to collect data\\n\", \"I heard the about my big bro ChatGpt\\n\")\n",
        "    return random.choice(responses)\n",
        "\n",
        "  def about_bot(self):\n",
        "    response = (\"A chatbot (originally chatterbot[1]) is a software application or web interface that aims to mimic human\\n conversation through text or voice interactions.[2][3] Modern chatbots are typically online and use artificial intelligence (AI)\\n systems that are capable of maintaining a conversation with a user in natural language \\nand simulating the way a human would behave as a conversational partner.\\n\",\n",
        "                \"In 1950, Alan Turing's famous article 'Computing Machinery and Intelligence' was published\\n,[8] which proposed what is now called the Turing test as a criterion of intelligence.\\n\",\n",
        "                \"Chatbots can make it easy for users to find information by instantaneously responding to\\n questions and requests—through text input, audio input, or both—without the need for human intervention or manual research.\\n\",\n",
        "                \"Modern AI chatbots now use natural language understanding (NLU) to discern the meaning of open-ended user input\\n, overcoming anything from typos to translation issues. Advanced AI tools then map that meaning\\n to the specific intent the user wants the chatbot to act upon, and use conversational AI to formulate an appropriate response.\\n\"\n",
        "                )\n",
        "    return random.choice(response)\n",
        "  def no_match_intent(self):\n",
        "    response = (\"Please tell me more.\\n\",\"Why do you Say That.\\n\",\"I see, Can You ellaborate?\\n\",\n",
        "                \"Why?\",\"How do you thik it like that!\\n\",\"Any Idea?\")\n",
        "    return random.choice(response)\n",
        "\n",
        "\n",
        "Alien = RuleBot()\n",
        "Alien.greet()\n",
        "\n",
        "\n",
        "\n",
        "\n",
        "\n",
        "\n",
        "\n",
        "\n",
        "\n",
        "\n",
        "\n",
        "\n"
      ],
      "metadata": {
        "id": "wkS5cuH9auYh",
        "colab": {
          "base_uri": "https://localhost:8080/"
        },
        "outputId": "ff76c251-e965-4f8a-b48f-971efdb70527"
      },
      "execution_count": null,
      "outputs": [
        {
          "output_type": "stream",
          "name": "stdout",
          "text": [
            "What Is your Name?\n",
            "My name is shubh\n",
            "Hi My name is shubh, I am Rule-Bot. Will you help  me to learn?\n",
            "yes python is best \n",
            "Is all Ok or you need my assistentits ok\n",
            "I see, Can You ellaborate?\n",
            "yes i fell good today\n",
            "Please tell me more.\n",
            "more what\n",
            "How do you thik it like that!\n",
            "because it is like that\n",
            "Please tell me more.\n",
            "stop\n",
            "BOnsuir !\n"
          ]
        }
      ]
    }
  ]
}